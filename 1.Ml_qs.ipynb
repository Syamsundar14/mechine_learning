{
 "cells": [
  {
   "cell_type": "markdown",
   "id": "89347fec",
   "metadata": {},
   "source": [
    "#### 1.What is Data ?\n",
    "\n",
    "Data is a collection of information gathered by observations, measurements, research or analysis. They may consist of facts, numbers, names, figures or even description of things. Data is organized in the form of graphs, charts or tables. There exist data scientist who does data mining and with the help of that data analyse our world."
   ]
  },
  {
   "cell_type": "markdown",
   "id": "5b859178",
   "metadata": {},
   "source": [
    "#### 2.What is Data Science & Brief in your own way ?\n",
    "\n",
    "\n",
    "Data science is the study of data to extract meaningful insights for business. It is a multidisciplinary approach that combines principles and practices from the fields of mathematics, statistics, artificial intelligence, and computer engineering to analyze large amounts of data. This analysis helps data scientists to ask and answer questions like what happened, why it happened, what will happen, and what can be done with the results."
   ]
  },
  {
   "cell_type": "markdown",
   "id": "b6f9a2d8",
   "metadata": {},
   "source": [
    "#### 3.What is Data Preprocessing ?\n",
    "\n",
    "Data preprocessing is a step in the data mining and data analysis process that takes raw data and transforms it into a format that can be understood and analyzed by computers and machine learning.\n",
    "\n",
    "Raw, real-world data in the form of text, images, video, etc., is messy. Not only may it contain errors and inconsistencies, but it is often incomplete, and doesn’t have a regular, uniform design.\n",
    "\n",
    "Machines like to process nice and tidy information – they read data as 1s and 0s. So calculating structured data, like whole numbers and percentages is easy. However, unstructured data, in the form of text and images must first be cleaned and formatted before analysis.\n"
   ]
  },
  {
   "cell_type": "markdown",
   "id": "25e1e0c1",
   "metadata": {},
   "source": [
    "#### 4.What Libraries Utilized to work with Data preprocessing?\n",
    "\n",
    "Some of the popular libraries used for data preprocessing in Python include NumPy, Pandas, Scikit-learn, and Matplotlib. These libraries provide various functions and methods that make it easier to perform data preprocessing tasks efficiently and effectively."
   ]
  },
  {
   "cell_type": "markdown",
   "id": "6a183ab2",
   "metadata": {},
   "source": [
    "#### 5.What are roles of Data Scientist ?\n",
    "\n",
    "A data scientist can use a range of different techniques, tools, and technologies as part of the data science process. Based on the problem, they pick the best combinations for faster and more accurate results.\n",
    "\n",
    "A data scientist’s role and day-to-day work vary depending on the size and requirements of the organization. While they typically follow the data science process, the details may vary. In larger data science teams, a data scientist may work with other analysts, engineers, machine learning experts, and statisticians to ensure the data science process is followed end-to-end and business goals are achieved."
   ]
  },
  {
   "cell_type": "markdown",
   "id": "4a172a42",
   "metadata": {},
   "source": [
    "#### 6.What is Machine Learning ?\n",
    "\n",
    "Machine learning is a branch of artificial intelligence (AI) and computer science which focuses on the use of data and algorithms to imitate the way that humans learn, gradually improving its accuracy."
   ]
  },
  {
   "cell_type": "markdown",
   "id": "3f4e5a83",
   "metadata": {},
   "source": [
    "#### 7.Why Machine Learning ?\n",
    "\n",
    "Data is the lifeblood of all business. Data-driven decisions increasingly make the difference between keeping up with competition or falling further behind. Machine learning can be the key to unlocking the value of corporate and customer data and enacting decisions that keep a company ahead of the competition."
   ]
  },
  {
   "cell_type": "markdown",
   "id": "3d329677",
   "metadata": {},
   "source": [
    "#### 8.Purpose of Machine Learning ?\n",
    "\n",
    "Machine learning refers to algorithms that allow computers to learn and improve independently while they analyse data. "
   ]
  },
  {
   "cell_type": "markdown",
   "id": "0a5492b9",
   "metadata": {},
   "source": [
    "#### 9.Machine Learning Current Examples ?\n",
    "\n",
    "Many of today's leading companies, such as Facebook, Google, and Uber, make machine learning a central part of their operations.\n",
    "\n",
    "Machine learning is used in many different applications, from image and speech recognition to natural language processing, recommendation systems, fraud detection, portfolio optimization, automated task, and so on. Machine learning models are also used to power autonomous vehicles, drones, and robots, making them more intelligent and adaptable to changing environments."
   ]
  },
  {
   "cell_type": "markdown",
   "id": "6c6187ae",
   "metadata": {},
   "source": [
    "#### 10.How many Types of Machine Learning models\n",
    "\n",
    "Machine learning models fall into three primary categories.\n",
    "\n",
    "1.Supervised machine learning\n",
    "2.Unsupervised machine learning\n",
    "3.Reinforcement machine learning"
   ]
  },
  {
   "cell_type": "markdown",
   "id": "1d51e196",
   "metadata": {},
   "source": [
    "#### 11.On what based Machine learning model selected Brief ?\n",
    "\n",
    "Model selection in machine learning is the process of selecting the best algorithm and model architecture for a specific job or dataset. It entails assessing and contrasting various models to identify the one that best fits the data & produces the best results. \n",
    "\n",
    "Generally, you need to consider two factors:\n",
    "\n",
    "###### 1.Based on type of data\n",
    "\n",
    "    Images and videos \n",
    "    If your application mainly focuses on images and videos, for example, image recognition. The Convolutional Neural Network model works better with images and videos when compared to other models. \n",
    "\n",
    "    Text data or speech data \n",
    "    Similarly, recurrent neural networks (RNN) are employed if your problem includes speech or text data.\n",
    "\n",
    "    Numerical data \n",
    "    You may use Support Vector Machine (SVM), logistic regression, and decision trees if your data is numerical.\n",
    "\n",
    "###### 2.Based on the task\n",
    "\n",
    "    Classification Tasks -  SVM, logistic regression, and decision trees.\n",
    "    \n",
    "    Regression tasks- Linear regression, Random Forest, Polynomial regression, etc.\n",
    "    \n",
    "    Clustering tasks- K means clustering, hierarchical clustering.\n",
    "    \n",
    "    Therefore, depending on the type of data you have and the task you do, you may use a variety of models.\n"
   ]
  },
  {
   "cell_type": "markdown",
   "id": "d5c50b28",
   "metadata": {},
   "source": [
    "#### 12.Describe Difference between ( Supervised / Unsupervised / Reinforcement Learning) ?\n",
    "\n",
    "###### Supervised Learning:\n",
    "\n",
    "In supervised learning, the algorithm is trained on a labeled dataset, where each input is associated with a corresponding output label.\n",
    "\n",
    "The goal is to learn a mapping from inputs to outputs, enabling the algorithm to make predictions or classifications on new, unseen data.\n",
    "\n",
    "Supervised Learning relies on labeled data, where the algorithm learns from examples with known outcomes. It's used for tasks where the goal is to predict or classify.\n",
    "\n",
    "Examples:\n",
    "Classification: Predicting a label or category (e.g., spam or not spam, image classification).\n",
    "Regression: Predicting a continuous outcome (e.g., house prices, temperature).\n",
    "\n",
    "###### Unsupervised Learning:\n",
    "\n",
    "Unsupervised learning involves training algorithms on an unlabeled dataset, and the system tries to find patterns or relationships within the data without explicit guidance.\n",
    "\n",
    "The goal is often to discover the inherent structure or distribution of the data, grouping similar data points or reducing dimensionality.\n",
    "\n",
    "Unsupervised Learning works with unlabeled data and aims to uncover patterns or relationships within the data. It's used for tasks like clustering or dimensionality reduction.\n",
    "\n",
    "Examples:\n",
    "Clustering: Grouping similar data points together (e.g., customer segmentation).\n",
    "Dimensionality Reduction: Reducing the number of features while retaining important information (e.g., principal component analysis).\n",
    "\n",
    "###### Reinforcement Learning:\n",
    "\n",
    "Reinforcement learning involves an agent learning to make sequences of decisions in an environment to maximize a cumulative reward signal.\n",
    "\n",
    "The agent learns through trial and error, receiving feedback in the form of rewards or penalties based on its actions.\n",
    "\n",
    "Reinforcement Learning involves an agent interacting with an environment, learning from the consequences of its actions. It's used for tasks where the optimal decision-making strategy is learned through trial and error.\n",
    "\n",
    "Examples:\n",
    "Game Playing: Training a computer program to play games by rewarding successful strategies.\n",
    "Robotics: Teaching a robot to perform tasks by rewarding correct movements.\n"
   ]
  },
  {
   "cell_type": "markdown",
   "id": "d922fd2f",
   "metadata": {},
   "source": [
    "#### 13.Difference between Machine Learning and Deep Learning ?\n",
    "\n",
    "Machine learning and deep learning are both types of AI. In short, machine learning is AI that can automatically adapt with minimal human interference. Deep learning is a subset of machine learning that uses artificial neural networks to mimic the learning process of the human brain"
   ]
  },
  {
   "cell_type": "markdown",
   "id": "268e5b6f",
   "metadata": {},
   "source": [
    "#### 14.What is Scikit Learn ?\n",
    "\n",
    "Scikit-learn (Sklearn) is the most useful and robust library for machine learning in Python. It provides a selection of efficient tools for machine learning and statistical modeling including classification, regression, clustering and dimensionality reduction via a consistence interface in Python. This library, which is largely written in Python, is built upon NumPy, SciPy and Matplotlib."
   ]
  },
  {
   "cell_type": "markdown",
   "id": "d895e931",
   "metadata": {},
   "source": [
    "#### 15.List out Data Preprocessing Steps ?\n",
    "\n",
    "The steps involved in data preprocessing are: \n",
    "\n",
    "    Data collection\n",
    "    Data cleaning\n",
    "    Data integration\n",
    "    Data transformation\n",
    "    Data reduction\n",
    "    Data discretization\n",
    "    Data normalization or Data standardization\n",
    "    Feature selection\n",
    "    Data representation.\n"
   ]
  },
  {
   "cell_type": "markdown",
   "id": "abd8a244",
   "metadata": {},
   "source": [
    "#### 16.In dataset : ( Decribe Independent Variable / Dependent Variable)\n",
    "\n",
    "A dependent variable is a variable whose changes and its outcome depend on another variable. On almost all occasions, the variable the dependent variable depends on is an independent variable.\n",
    "\n",
    "Dependent variables are also called the response or outcome variables because they represent the outcome of the values you're measuring. That is, what you record after manipulating the independent variables.\n",
    "\n",
    "An independent variable is a variable whose outcome or changes do not depend on another variable. It is the exact opposite of the dependent variable, at least according to what the name implies.\n",
    "\n",
    "Independent variables are also called predictor variables because you can use them to predict the outcome of a dependent variable. That is, when you manipulate independent variables, they can give you the outcome of a dependent variable."
   ]
  },
  {
   "cell_type": "markdown",
   "id": "939b810a",
   "metadata": {},
   "source": [
    "#### 17.What the default ration for Train / test sets ?\n",
    "\n",
    "There is no fixed rule while selecting the size of the training set and testing set. Its suggested in several machine learning research articles to generally opt for Training dataset to be 70% and Testing dataset to be 15%"
   ]
  },
  {
   "cell_type": "markdown",
   "id": "5b05fac5",
   "metadata": {},
   "source": [
    "#### 18.Brief Steps Involved in Machine Learning Model Approach ?\n",
    "\n",
    "The task of imparting intelligence to machines can be broken down into 6 major steps :\n",
    "\n",
    "1. Data Collection and integration\n",
    "2. Exploratory Data Analysis and Visualisation\n",
    "3. Feature Selection and Engineering\n",
    "4.  Model Training\n",
    "5. Model Evaluation\n",
    "6. Prediction"
   ]
  },
  {
   "cell_type": "markdown",
   "id": "cf2626f3",
   "metadata": {},
   "source": [
    "#### 19.What is Over_fit ?\n",
    "\n",
    "Overfitting is an undesirable machine learning behavior that occurs when the machine learning model gives accurate predictions for training data but not for new data."
   ]
  },
  {
   "cell_type": "markdown",
   "id": "c631bf6a",
   "metadata": {},
   "source": [
    "#### 20.What is Under_fit ?\n",
    "\n",
    "Underfitting is another type of error that occurs when the model cannot determine a meaningful relationship between the input and output data."
   ]
  },
  {
   "cell_type": "code",
   "execution_count": null,
   "id": "58bf288c",
   "metadata": {},
   "outputs": [],
   "source": []
  }
 ],
 "metadata": {
  "kernelspec": {
   "display_name": "Python 3 (ipykernel)",
   "language": "python",
   "name": "python3"
  },
  "language_info": {
   "codemirror_mode": {
    "name": "ipython",
    "version": 3
   },
   "file_extension": ".py",
   "mimetype": "text/x-python",
   "name": "python",
   "nbconvert_exporter": "python",
   "pygments_lexer": "ipython3",
   "version": "3.11.4"
  }
 },
 "nbformat": 4,
 "nbformat_minor": 5
}
